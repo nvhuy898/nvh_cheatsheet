{
 "cells": [
  {
   "cell_type": "code",
   "execution_count": 1,
   "id": "d6de7469",
   "metadata": {},
   "outputs": [],
   "source": [
    "import numpy as np\n",
    "import pandas as pd\n",
    "import itertools\n",
    "import matplotlib.pyplot as plt\n",
    "import altair as alt\n",
    "from scipy.stats import norm\n",
    "import random\n",
    "import seaborn as sns"
   ]
  },
  {
   "cell_type": "code",
   "execution_count": 9,
   "id": "6da4d6ec",
   "metadata": {},
   "outputs": [
    {
     "name": "stdout",
     "output_type": "stream",
     "text": [
      "1.0\n"
     ]
    }
   ],
   "source": [
    "# Bẻ 1 que tăm làm 3 phần, tính xác suất để độ dài 1 phân lớn hơn 0.5\n",
    "n=1000\n",
    "s=0\n",
    "for i in range(n):\n",
    "    x=np.random.rand(1)\n",
    "    if np.random.rand(1)>0.5:\n",
    "        y=(1-x)*np.random.rand(1)\n",
    "        z=1-y-x\n",
    "    else:\n",
    "        z=1-x\n",
    "        y=x*(np.random.rand(1))\n",
    "        x=x-y\n",
    "    if (x>=0.5)|(y>=0.5)|(z>=0.5):\n",
    "        s +=1\n",
    "\n",
    "print(s/n)    "
   ]
  },
  {
   "cell_type": "code",
   "execution_count": 13,
   "id": "16640151",
   "metadata": {},
   "outputs": [
    {
     "name": "stdout",
     "output_type": "stream",
     "text": [
      "[0.73426884] [0.26498758] [0.00074358]\n",
      "[0.49337375] [0.03536039] [0.47126585]\n",
      "[0.51173334] [0.13081123] [0.35745544]\n",
      "[0.03577775] [0.54041248] [0.42380977]\n",
      "[0.132935] [0.36832279] [0.49874221]\n",
      "[0.21042216] [0.09015456] [0.69942328]\n",
      "[0.11359849] [0.13322743] [0.75317408]\n",
      "[0.21295567] [0.24055415] [0.54649018]\n",
      "[0.58803821] [0.30765417] [0.10430762]\n",
      "[0.57621992] [0.07109032] [0.35268976]\n"
     ]
    }
   ],
   "source": [
    "\n",
    "n=10\n",
    "for i in range(n):\n",
    "    x=np.random.rand(1)\n",
    "    if np.random.rand(1)>0.5:\n",
    "        y=(1-x)*np.random.rand(1)\n",
    "        z=1-y-x\n",
    "    else:\n",
    "        z=1-x\n",
    "        y=x*(np.random.rand(1))\n",
    "        x=x-y\n",
    "    if (x>=0.5)|(y>=0.5)|(z>=0.5):\n",
    "        s +=1\n",
    "    print(x,y,z)"
   ]
  },
  {
   "cell_type": "code",
   "execution_count": 3,
   "id": "565e126c",
   "metadata": {},
   "outputs": [
    {
     "data": {
      "text/plain": [
       "array([ True])"
      ]
     },
     "execution_count": 3,
     "metadata": {},
     "output_type": "execute_result"
    }
   ],
   "source": [
    "(x+y+z)==1"
   ]
  },
  {
   "cell_type": "code",
   "execution_count": 4,
   "id": "8108f5f9",
   "metadata": {},
   "outputs": [
    {
     "name": "stdout",
     "output_type": "stream",
     "text": [
      "3.1406316\n"
     ]
    }
   ],
   "source": [
    "# Cho 1 khẩu súng và 1 tấm bia hình vuông, tìm  cách xác định số pi\n",
    "\n",
    "n=10000000\n",
    "r=1 # bán kính đường tròn, cạnh hình vuông\n",
    "s=0\n",
    "for i in range(n):\n",
    "    x=np.random.rand(1)\n",
    "    y=np.random.rand(1)\n",
    "    if np.sqrt(x**2+y**2)<=1:\n",
    "        s+=1\n",
    "# (pi*r^2/4)/(r^2)=s/n\n",
    "print(4*s/n)\n",
    "    "
   ]
  },
  {
   "cell_type": "code",
   "execution_count": 5,
   "id": "eaa9804d",
   "metadata": {},
   "outputs": [
    {
     "data": {
      "text/plain": [
       "0.8333333333333334"
      ]
     },
     "execution_count": 5,
     "metadata": {},
     "output_type": "execute_result"
    }
   ],
   "source": [
    "# Tính xác xuất tổng 2 lần tung xuc xắc bằng 9\n",
    "\n",
    "sample_space = list(itertools.product(range(1,7),range(1,7)))\n",
    "S = list(map(lambda i: sum(i),sample_space))\n",
    "S_A = [S[i] for i,s in enumerate(S) if s<=9]\n",
    "P_A=len(S_A)/len(S)\n",
    "P_A"
   ]
  },
  {
   "cell_type": "markdown",
   "id": "6efd8b80",
   "metadata": {},
   "source": [
    "# Bayes: P(A|B)=P(A)*P(B|A)/P(B)"
   ]
  },
  {
   "cell_type": "code",
   "execution_count": 6,
   "id": "ea54eacc",
   "metadata": {},
   "outputs": [
    {
     "name": "stdout",
     "output_type": "stream",
     "text": [
      "P(A) 0.83\n",
      "P(B) 0.14\n",
      "P(A|B) 0.8\n",
      "P(B|A) 0.13\n",
      "Bayes:  True\n"
     ]
    }
   ],
   "source": [
    "# Tính xác xuất tung xuc xac 2 lần ra kết quả khác nhau và có tổng bằng 6\n",
    "\n",
    "sample_space = list(itertools.product(range(1,7),range(1,7)))\n",
    "S = list(map(lambda i: sum(i),sample_space))\n",
    "# B_space = [all_out[i] for i,s in enumerate(S) if s[.sum()=6]\n",
    "A_space = [i for i in sample_space if i[0]!=i[1]]\n",
    "B_space = [i for i in sample_space if i[0]+i[1] ==6 ]\n",
    "A_B_space = [i for i in B_space if (i[0]!=i[1] )]\n",
    "B_A_space = [i for i in A_space if i[0]+i[1] ==6 ]\n",
    "\n",
    "P_A = len(A_space)/len(sample_space)\n",
    "P_B = len(B_space)/len(sample_space)\n",
    "P_AB = len(A_B_space)/len(B_space)\n",
    "P_BA = len(B_A_space)/len(A_space)\n",
    "\n",
    "print('P(A)',round(P_A,2))\n",
    "print('P(B)',round(P_B,2))\n",
    "print('P(A|B)',round(P_AB,2))\n",
    "print('P(B|A)',round(P_BA,2))\n",
    "print('Bayes: ',(P_A*P_BA)==(P_B*P_AB))"
   ]
  },
  {
   "cell_type": "code",
   "execution_count": null,
   "id": "f77d2b3d",
   "metadata": {},
   "outputs": [],
   "source": []
  }
 ],
 "metadata": {
  "kernelspec": {
   "display_name": "Python 3 (ipykernel)",
   "language": "python",
   "name": "python3"
  },
  "language_info": {
   "codemirror_mode": {
    "name": "ipython",
    "version": 3
   },
   "file_extension": ".py",
   "mimetype": "text/x-python",
   "name": "python",
   "nbconvert_exporter": "python",
   "pygments_lexer": "ipython3",
   "version": "3.9.2"
  }
 },
 "nbformat": 4,
 "nbformat_minor": 5
}
