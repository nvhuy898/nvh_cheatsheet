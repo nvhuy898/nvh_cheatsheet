{
 "cells": [
  {
   "cell_type": "code",
   "execution_count": 9,
   "id": "7588f9c3",
   "metadata": {},
   "outputs": [],
   "source": [
    "import cv2\n",
    "import numpy as np\n",
    "import matplotlib.pyplot as plt"
   ]
  },
  {
   "cell_type": "code",
   "execution_count": 10,
   "id": "31b1907f",
   "metadata": {},
   "outputs": [],
   "source": [
    "def dao_anh(img):\n",
    "    return 255-img"
   ]
  },
  {
   "cell_type": "code",
   "execution_count": 11,
   "id": "543e76b9",
   "metadata": {},
   "outputs": [],
   "source": [
    "def chuyen_doi_logarit(img, c):\n",
    "    return float(c) * cv2.log(1.0 + img)"
   ]
  },
  {
   "cell_type": "code",
   "execution_count": 12,
   "id": "14a708e0",
   "metadata": {},
   "outputs": [],
   "source": [
    "def chuyen_doi_gamma(img, gamma, c):\n",
    "    return float(c) * pow(img, float(gamma))"
   ]
  },
  {
   "cell_type": "code",
   "execution_count": 14,
   "id": "f97ddc68",
   "metadata": {
    "scrolled": true
   },
   "outputs": [],
   "source": [
    "def cat_nguong(img, th):\n",
    "    return img > th"
   ]
  },
  {
   "cell_type": "code",
   "execution_count": null,
   "id": "51970168",
   "metadata": {},
   "outputs": [],
   "source": [
    "def "
   ]
  }
 ],
 "metadata": {
  "kernelspec": {
   "display_name": "Python 3 (ipykernel)",
   "language": "python",
   "name": "python3"
  },
  "language_info": {
   "codemirror_mode": {
    "name": "ipython",
    "version": 3
   },
   "file_extension": ".py",
   "mimetype": "text/x-python",
   "name": "python",
   "nbconvert_exporter": "python",
   "pygments_lexer": "ipython3",
   "version": "3.9.2"
  }
 },
 "nbformat": 4,
 "nbformat_minor": 5
}
