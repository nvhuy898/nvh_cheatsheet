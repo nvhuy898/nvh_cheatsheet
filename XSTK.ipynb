{
 "cells": [
  {
   "cell_type": "code",
   "execution_count": 1,
   "id": "340f8788",
   "metadata": {},
   "outputs": [],
   "source": [
    "import numpy as np"
   ]
  },
  {
   "cell_type": "code",
   "execution_count": 6,
   "id": "272638c6",
   "metadata": {},
   "outputs": [
    {
     "name": "stdout",
     "output_type": "stream",
     "text": [
      "0.807284\n"
     ]
    }
   ],
   "source": [
    "\n",
    "n=1000000\n",
    "s=0\n",
    "for i in range(n):\n",
    "    x=np.random.rand(1)\n",
    "    if np.random.rand(1)>0.5:\n",
    "        y=(1-x)*np.random.rand(1)\n",
    "        z=1-y-x\n",
    "    else:\n",
    "        z=1-x\n",
    "        y=x*(np.random.rand(1))\n",
    "        x=x-y\n",
    "    if (x>=0.5)|(y>=0.5)|(z>=0.5):\n",
    "        s +=1\n",
    "print(s/n)    "
   ]
  },
  {
   "cell_type": "code",
   "execution_count": null,
   "id": "6984889d",
   "metadata": {},
   "outputs": [],
   "source": []
  }
 ],
 "metadata": {
  "kernelspec": {
   "display_name": "Python 3 (ipykernel)",
   "language": "python",
   "name": "python3"
  },
  "language_info": {
   "codemirror_mode": {
    "name": "ipython",
    "version": 3
   },
   "file_extension": ".py",
   "mimetype": "text/x-python",
   "name": "python",
   "nbconvert_exporter": "python",
   "pygments_lexer": "ipython3",
   "version": "3.9.2"
  }
 },
 "nbformat": 4,
 "nbformat_minor": 5
}
