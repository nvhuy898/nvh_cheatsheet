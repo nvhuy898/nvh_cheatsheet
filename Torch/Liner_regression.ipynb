{
 "cells": [
  {
   "cell_type": "code",
   "execution_count": 1,
   "id": "9f5f83e9",
   "metadata": {},
   "outputs": [],
   "source": [
    "import numpy as np\n",
    "import pandas as pd\n",
    "import matplotlib.pyplot as plt\n",
    "import torch"
   ]
  },
  {
   "cell_type": "code",
   "execution_count": 2,
   "id": "8f66a3f8",
   "metadata": {},
   "outputs": [],
   "source": [
    "# load dữ liệu, chuyển về dạng numpy\n",
    "data = pd.read_csv('data_linear.csv')"
   ]
  },
  {
   "cell_type": "code",
   "execution_count": 3,
   "id": "30f6ee73",
   "metadata": {},
   "outputs": [],
   "source": [
    "# chuyển dữ liệu về dạng torch\n",
    "x = torch.tensor(data['Diện tích'])\n",
    "y = torch.tensor(data['Giá'])"
   ]
  },
  {
   "cell_type": "code",
   "execution_count": 4,
   "id": "911ec824",
   "metadata": {},
   "outputs": [],
   "source": [
    "def model(x, a, b):\n",
    "    return a * x + b"
   ]
  },
  {
   "cell_type": "code",
   "execution_count": 5,
   "id": "ae0ea6b0",
   "metadata": {},
   "outputs": [],
   "source": [
    "def loss_fn(y_hat,y):\n",
    "    squared_diffs = (y_hat - y)**2\n",
    "    return squared_diffs.mean()\n"
   ]
  },
  {
   "cell_type": "code",
   "execution_count": 6,
   "id": "af4cf41b",
   "metadata": {},
   "outputs": [],
   "source": [
    "# Hàm training\n",
    "def training_loop(n_epochs, learning_rate, params, x, y):\n",
    "    a, b = params\n",
    "    # Lưu loss qua epoch để vẽ đồ thị loss\n",
    "    losses = []\n",
    "    for epoch in range(1, n_epochs + 1):\n",
    "        # nếu có grad ở tham số a, b thì zero đi, tránh trường hợp cộng dồn grad\n",
    "        if a.grad is not None:\n",
    "            a.grad.zero_()\n",
    "        if b.grad is not None:\n",
    "            b.grad.zero_()\n",
    "        \n",
    "        # xây model, loss\n",
    "        y_hat = model(x, a, b)\n",
    "        loss = loss_fn(y_hat, y)\n",
    "        \n",
    "        # gọi backward để tính đạo hàm ngược của loss với tham số a, b\n",
    "        loss.backward()\n",
    "\n",
    "        # update a,b bằng thuật toán gradient descent, để torch.no_grad thì mình không cần backward ở bước này\n",
    "        with torch.no_grad():\n",
    "            a -= learning_rate * a.grad\n",
    "            b -= learning_rate * b.grad\n",
    "        \n",
    "        if epoch % 1 == 0:\n",
    "            losses.append(loss.item())\n",
    "            print('Epoch %d, Loss %f' % (epoch, float(loss)))\n",
    "    return a, b, losses"
   ]
  },
  {
   "cell_type": "code",
   "execution_count": 7,
   "id": "230e02ae",
   "metadata": {},
   "outputs": [
    {
     "name": "stdout",
     "output_type": "stream",
     "text": [
      "Epoch 1, Loss 928658.176303\n",
      "Epoch 2, Loss 264754.354670\n",
      "Epoch 3, Loss 75608.348718\n",
      "Epoch 4, Loss 21720.675909\n",
      "Epoch 5, Loss 6368.099589\n",
      "Epoch 6, Loss 1994.160233\n",
      "Epoch 7, Loss 748.023193\n",
      "Epoch 8, Loss 392.999771\n",
      "Epoch 9, Loss 291.853276\n",
      "Epoch 10, Loss 263.036789\n",
      "Epoch 11, Loss 254.826636\n",
      "Epoch 12, Loss 252.487520\n",
      "Epoch 13, Loss 251.821067\n",
      "Epoch 14, Loss 251.631127\n",
      "Epoch 15, Loss 251.576954\n",
      "Epoch 16, Loss 251.561457\n",
      "Epoch 17, Loss 251.556977\n",
      "Epoch 18, Loss 251.555637\n",
      "Epoch 19, Loss 251.555189\n",
      "Epoch 20, Loss 251.554995\n",
      "Epoch 21, Loss 251.554874\n",
      "Epoch 22, Loss 251.554774\n",
      "Epoch 23, Loss 251.554679\n",
      "Epoch 24, Loss 251.554586\n",
      "Epoch 25, Loss 251.554493\n",
      "Epoch 26, Loss 251.554401\n",
      "Epoch 27, Loss 251.554308\n",
      "Epoch 28, Loss 251.554216\n",
      "Epoch 29, Loss 251.554124\n",
      "Epoch 30, Loss 251.554031\n"
     ]
    }
   ],
   "source": [
    "a = torch.ones((),requires_grad=True)\n",
    "b = torch.zeros((),requires_grad=True)\n",
    "\n",
    "a, b, losses = training_loop(30, 0.00005, (a, b), x, y)"
   ]
  },
  {
   "cell_type": "code",
   "execution_count": 8,
   "id": "e3052d46",
   "metadata": {},
   "outputs": [
    {
     "data": {
      "text/plain": [
       "Text(0, 0.5, 'loss')"
      ]
     },
     "execution_count": 8,
     "metadata": {},
     "output_type": "execute_result"
    },
    {
     "data": {
      "image/png": "[encoded data removed]",
      "text/plain": [
       "<Figure size 432x288 with 1 Axes>"
      ]
     },
     "metadata": {
      "needs_background": "light"
     },
     "output_type": "display_data"
    }
   ],
   "source": [
    "plt.plot(losses)\n",
    "plt.xlabel('epoch')\n",
    "plt.ylabel('loss')"
   ]
  },
  {
   "cell_type": "code",
   "execution_count": 9,
   "id": "8980727e",
   "metadata": {},
   "outputs": [
    {
     "name": "stdout",
     "output_type": "stream",
     "text": [
      "tensor(755.6882)\n"
     ]
    }
   ],
   "source": [
    "# Dự đoán giá trị mới, x = 50\n",
    "x = torch.tensor(50)\n",
    "with torch.no_grad():\n",
    "    y_hat = model(x, a, b)\n",
    "    print(y_hat)"
   ]
  },
  {
   "cell_type": "code",
   "execution_count": 10,
   "id": "957976c9",
   "metadata": {},
   "outputs": [
    {
     "data": {
      "text/plain": [
       "[<matplotlib.lines.Line2D at 0x7f5a9dd6f9a0>]"
      ]
     },
     "execution_count": 10,
     "metadata": {},
     "output_type": "execute_result"
    },
    {
     "data": {
      "image/png": "[encoded data removed]",
      "text/plain": [
       "<Figure size 432x288 with 1 Axes>"
      ]
     },
     "metadata": {
      "needs_background": "light"
     },
     "output_type": "display_data"
    }
   ],
   "source": [
    "x = torch.tensor(data['Diện tích'])\n",
    "y = torch.tensor(data['Giá'])\n",
    "with torch.no_grad():\n",
    "    y_hat = model(x, a, b)\n",
    "plt.scatter(x, y)\n",
    "plt.plot(x, y_hat, c='r')"
   ]
  },
  {
   "cell_type": "markdown",
   "id": "468c28aa",
   "metadata": {},
   "source": [
    "## Mạng nn đơn giản nhất"
   ]
  },
  {
   "cell_type": "code",
   "execution_count": 11,
   "id": "4b12a5fd",
   "metadata": {},
   "outputs": [],
   "source": [
    "import torch\n",
    "from torch import nn\n",
    "from torch.nn import functional as F\n",
    "import pandas as pd\n",
    "from torchviz import make_dot\n",
    "import matplotlib.pyplot as plt\n",
    "import torch.optim as optim"
   ]
  },
  {
   "cell_type": "code",
   "execution_count": 12,
   "id": "9d500cb3",
   "metadata": {},
   "outputs": [],
   "source": [
    "data = pd.read_csv('data_linear.csv').values\n",
    "# chuyển dữ liệu về dạng torch\n",
    "x = torch.tensor(data[:,0], dtype=torch.float32)\n",
    "y = torch.tensor(data[:,1], dtype=torch.float32)\n",
    "x = x.unsqueeze(1)\n",
    "y = y.unsqueeze(1)"
   ]
  },
  {
   "cell_type": "code",
   "execution_count": 13,
   "id": "e36248f9",
   "metadata": {},
   "outputs": [
    {
     "data": {
      "text/plain": [
       "Linear(in_features=1, out_features=1, bias=True)"
      ]
     },
     "execution_count": 13,
     "metadata": {},
     "output_type": "execute_result"
    }
   ],
   "source": [
    "linear_model = nn.Linear(1, 1)\n",
    "linear_model"
   ]
  },
  {
   "cell_type": "code",
   "execution_count": null,
   "id": "db381f6b",
   "metadata": {},
   "outputs": [],
   "source": []
  },
  {
   "cell_type": "code",
   "execution_count": 14,
   "id": "1d76b418",
   "metadata": {
    "scrolled": true
   },
   "outputs": [
    {
     "name": "stdout",
     "output_type": "stream",
     "text": [
      "EPOCH 1: Loss: 986247.75\n",
      "EPOCH 2: Loss: 4746.3759765625\n",
      "EPOCH 3: Loss: 271.7601318359375\n",
      "EPOCH 4: Loss: 251.3611297607422\n",
      "EPOCH 5: Loss: 251.26791381835938\n",
      "EPOCH 6: Loss: 251.2669219970703\n",
      "EPOCH 7: Loss: 251.26683044433594\n",
      "EPOCH 8: Loss: 251.26687622070312\n",
      "EPOCH 9: Loss: 251.2666473388672\n",
      "EPOCH 10: Loss: 251.26651000976562\n"
     ]
    }
   ],
   "source": [
    "linear_model = nn.Linear(1, 1)\n",
    "linear_model\n",
    "\n",
    "list(linear_model.parameters())\n",
    "\n",
    "loss_fn=nn.MSELoss()\n",
    "optimizer = torch.optim.SGD(linear_model.parameters(), lr=0.0001)\n",
    "\n",
    "n_epoch = 10\n",
    "model = linear_model\n",
    "losses = []\n",
    "for epoch in range(1,n_epoch +1):\n",
    "    y_hat = model(x)\n",
    "    loss = loss_fn(y_hat, y)\n",
    "    optimizer.zero_grad()\n",
    "    loss.backward()\n",
    "    optimizer.step()\n",
    "    losses.append(loss.item())\n",
    "    print(f'EPOCH {epoch}: Loss: {loss}')\n",
    "    "
   ]
  },
  {
   "cell_type": "code",
   "execution_count": 15,
   "id": "5f5e280b",
   "metadata": {},
   "outputs": [
    {
     "data": {
      "text/plain": [
       "Text(0, 0.5, 'loss')"
      ]
     },
     "execution_count": 15,
     "metadata": {},
     "output_type": "execute_result"
    },
    {
     "data": {
      "image/png": "[encoded data removed]",
      "text/plain": [
       "<Figure size 432x288 with 1 Axes>"
      ]
     },
     "metadata": {
      "needs_background": "light"
     },
     "output_type": "display_data"
    }
   ],
   "source": [
    "plt.plot(losses)\n",
    "plt.xlabel('epoch')\n",
    "plt.ylabel('loss')\n",
    "\n"
   ]
  },
  {
   "cell_type": "code",
   "execution_count": 16,
   "id": "bb5c349f",
   "metadata": {},
   "outputs": [
    {
     "data": {
      "text/plain": [
       "[<matplotlib.lines.Line2D at 0x7f5a9dc2bcd0>]"
      ]
     },
     "execution_count": 16,
     "metadata": {},
     "output_type": "execute_result"
    },
    {
     "data": {
      "image/png": "[encoded data removed]",
      "text/plain": [
       "<Figure size 432x288 with 1 Axes>"
      ]
     },
     "metadata": {
      "needs_background": "light"
     },
     "output_type": "display_data"
    }
   ],
   "source": [
    "with torch.no_grad():\n",
    "    y_hat = model(x)\n",
    "plt.scatter(x, y)\n",
    "plt.plot(x, y_hat, c = 'r')"
   ]
  },
  {
   "cell_type": "code",
   "execution_count": null,
   "id": "682ad707",
   "metadata": {},
   "outputs": [],
   "source": []
  }
 ],
 "metadata": {
  "kernelspec": {
   "display_name": "Python 3 (ipykernel)",
   "language": "python",
   "name": "python3"
  },
  "language_info": {
   "codemirror_mode": {
    "name": "ipython",
    "version": 3
   },
   "file_extension": ".py",
   "mimetype": "text/x-python",
   "name": "python",
   "nbconvert_exporter": "python",
   "pygments_lexer": "ipython3",
   "version": "3.9.2"
  }
 },
 "nbformat": 4,
 "nbformat_minor": 5
}
