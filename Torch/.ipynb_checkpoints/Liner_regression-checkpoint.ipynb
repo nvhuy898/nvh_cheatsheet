{
 "cells": [
  {
   "cell_type": "code",
   "execution_count": 2,
   "id": "9f5f83e9",
   "metadata": {},
   "outputs": [],
   "source": [
    "import numpy as np\n",
    "import pandas as pd\n",
    "import matplotlib.pyplot as plt\n",
    "import torch"
   ]
  },
  {
   "cell_type": "code",
   "execution_count": 8,
   "id": "8f66a3f8",
   "metadata": {},
   "outputs": [
    {
     "data": {
      "text/html": [
       "<div>\n",
       "<style scoped>\n",
       "    .dataframe tbody tr th:only-of-type {\n",
       "        vertical-align: middle;\n",
       "    }\n",
       "\n",
       "    .dataframe tbody tr th {\n",
       "        vertical-align: top;\n",
       "    }\n",
       "\n",
       "    .dataframe thead th {\n",
       "        text-align: right;\n",
       "    }\n",
       "</style>\n",
       "<table border=\"1\" class=\"dataframe\">\n",
       "  <thead>\n",
       "    <tr style=\"text-align: right;\">\n",
       "      <th></th>\n",
       "      <th>Diện tích</th>\n",
       "      <th>Giá</th>\n",
       "    </tr>\n",
       "  </thead>\n",
       "  <tbody>\n",
       "    <tr>\n",
       "      <th>0</th>\n",
       "      <td>30.0000</td>\n",
       "      <td>448.524</td>\n",
       "    </tr>\n",
       "    <tr>\n",
       "      <th>1</th>\n",
       "      <td>32.4138</td>\n",
       "      <td>509.248</td>\n",
       "    </tr>\n",
       "    <tr>\n",
       "      <th>2</th>\n",
       "      <td>34.8276</td>\n",
       "      <td>535.104</td>\n",
       "    </tr>\n",
       "    <tr>\n",
       "      <th>3</th>\n",
       "      <td>37.2414</td>\n",
       "      <td>551.432</td>\n",
       "    </tr>\n",
       "    <tr>\n",
       "      <th>4</th>\n",
       "      <td>39.6552</td>\n",
       "      <td>623.418</td>\n",
       "    </tr>\n",
       "    <tr>\n",
       "      <th>5</th>\n",
       "      <td>42.0690</td>\n",
       "      <td>625.992</td>\n",
       "    </tr>\n",
       "    <tr>\n",
       "      <th>6</th>\n",
       "      <td>44.4828</td>\n",
       "      <td>655.248</td>\n",
       "    </tr>\n",
       "    <tr>\n",
       "      <th>7</th>\n",
       "      <td>46.8966</td>\n",
       "      <td>701.377</td>\n",
       "    </tr>\n",
       "    <tr>\n",
       "      <th>8</th>\n",
       "      <td>49.3103</td>\n",
       "      <td>748.918</td>\n",
       "    </tr>\n",
       "    <tr>\n",
       "      <th>9</th>\n",
       "      <td>51.7241</td>\n",
       "      <td>757.881</td>\n",
       "    </tr>\n",
       "    <tr>\n",
       "      <th>10</th>\n",
       "      <td>54.1379</td>\n",
       "      <td>831.004</td>\n",
       "    </tr>\n",
       "    <tr>\n",
       "      <th>11</th>\n",
       "      <td>56.5517</td>\n",
       "      <td>855.409</td>\n",
       "    </tr>\n",
       "    <tr>\n",
       "      <th>12</th>\n",
       "      <td>58.9655</td>\n",
       "      <td>866.707</td>\n",
       "    </tr>\n",
       "    <tr>\n",
       "      <th>13</th>\n",
       "      <td>61.3793</td>\n",
       "      <td>902.545</td>\n",
       "    </tr>\n",
       "    <tr>\n",
       "      <th>14</th>\n",
       "      <td>63.7931</td>\n",
       "      <td>952.261</td>\n",
       "    </tr>\n",
       "    <tr>\n",
       "      <th>15</th>\n",
       "      <td>66.2069</td>\n",
       "      <td>995.531</td>\n",
       "    </tr>\n",
       "    <tr>\n",
       "      <th>16</th>\n",
       "      <td>68.6207</td>\n",
       "      <td>1069.780</td>\n",
       "    </tr>\n",
       "    <tr>\n",
       "      <th>17</th>\n",
       "      <td>71.0345</td>\n",
       "      <td>1074.420</td>\n",
       "    </tr>\n",
       "    <tr>\n",
       "      <th>18</th>\n",
       "      <td>73.4483</td>\n",
       "      <td>1103.880</td>\n",
       "    </tr>\n",
       "    <tr>\n",
       "      <th>19</th>\n",
       "      <td>75.8621</td>\n",
       "      <td>1138.690</td>\n",
       "    </tr>\n",
       "    <tr>\n",
       "      <th>20</th>\n",
       "      <td>78.2759</td>\n",
       "      <td>1153.130</td>\n",
       "    </tr>\n",
       "    <tr>\n",
       "      <th>21</th>\n",
       "      <td>80.6897</td>\n",
       "      <td>1240.270</td>\n",
       "    </tr>\n",
       "    <tr>\n",
       "      <th>22</th>\n",
       "      <td>83.1034</td>\n",
       "      <td>1251.900</td>\n",
       "    </tr>\n",
       "    <tr>\n",
       "      <th>23</th>\n",
       "      <td>85.5172</td>\n",
       "      <td>1287.970</td>\n",
       "    </tr>\n",
       "    <tr>\n",
       "      <th>24</th>\n",
       "      <td>87.9310</td>\n",
       "      <td>1320.470</td>\n",
       "    </tr>\n",
       "    <tr>\n",
       "      <th>25</th>\n",
       "      <td>90.3448</td>\n",
       "      <td>1374.920</td>\n",
       "    </tr>\n",
       "    <tr>\n",
       "      <th>26</th>\n",
       "      <td>92.7586</td>\n",
       "      <td>1410.160</td>\n",
       "    </tr>\n",
       "    <tr>\n",
       "      <th>27</th>\n",
       "      <td>95.1724</td>\n",
       "      <td>1469.690</td>\n",
       "    </tr>\n",
       "    <tr>\n",
       "      <th>28</th>\n",
       "      <td>97.5862</td>\n",
       "      <td>1478.540</td>\n",
       "    </tr>\n",
       "    <tr>\n",
       "      <th>29</th>\n",
       "      <td>100.0000</td>\n",
       "      <td>1515.280</td>\n",
       "    </tr>\n",
       "  </tbody>\n",
       "</table>\n",
       "</div>"
      ],
      "text/plain": [
       "    Diện tích       Giá\n",
       "0     30.0000   448.524\n",
       "1     32.4138   509.248\n",
       "2     34.8276   535.104\n",
       "3     37.2414   551.432\n",
       "4     39.6552   623.418\n",
       "5     42.0690   625.992\n",
       "6     44.4828   655.248\n",
       "7     46.8966   701.377\n",
       "8     49.3103   748.918\n",
       "9     51.7241   757.881\n",
       "10    54.1379   831.004\n",
       "11    56.5517   855.409\n",
       "12    58.9655   866.707\n",
       "13    61.3793   902.545\n",
       "14    63.7931   952.261\n",
       "15    66.2069   995.531\n",
       "16    68.6207  1069.780\n",
       "17    71.0345  1074.420\n",
       "18    73.4483  1103.880\n",
       "19    75.8621  1138.690\n",
       "20    78.2759  1153.130\n",
       "21    80.6897  1240.270\n",
       "22    83.1034  1251.900\n",
       "23    85.5172  1287.970\n",
       "24    87.9310  1320.470\n",
       "25    90.3448  1374.920\n",
       "26    92.7586  1410.160\n",
       "27    95.1724  1469.690\n",
       "28    97.5862  1478.540\n",
       "29   100.0000  1515.280"
      ]
     },
     "execution_count": 8,
     "metadata": {},
     "output_type": "execute_result"
    }
   ],
   "source": [
    "# load dữ liệu, chuyển về dạng numpy\n",
    "data = pd.read_csv('data_linear.csv')"
   ]
  },
  {
   "cell_type": "code",
   "execution_count": 12,
   "id": "30f6ee73",
   "metadata": {},
   "outputs": [],
   "source": [
    "# chuyển dữ liệu về dạng torch\n",
    "x = torch.tensor(data['Diện tích'])\n",
    "y = torch.tensor(data['Giá'])"
   ]
  },
  {
   "cell_type": "code",
   "execution_count": 13,
   "id": "911ec824",
   "metadata": {},
   "outputs": [],
   "source": [
    "def model(x, a, b):\n",
    "    return a * x + b"
   ]
  },
  {
   "cell_type": "code",
   "execution_count": 14,
   "id": "ae0ea6b0",
   "metadata": {},
   "outputs": [],
   "source": [
    "def loss_fn(y_hat,y):\n",
    "    squared_diffs = (y_hat - y)**2\n",
    "    return squared_diffs.mean()\n"
   ]
  },
  {
   "cell_type": "code",
   "execution_count": 27,
   "id": "af4cf41b",
   "metadata": {},
   "outputs": [],
   "source": [
    "# Hàm training\n",
    "def training_loop(n_epochs, learning_rate, params, x, y):\n",
    "    a, b = params\n",
    "    # Lưu loss qua epoch để vẽ đồ thị loss\n",
    "    losses = []\n",
    "    for epoch in range(1, n_epochs + 1):\n",
    "        # nếu có grad ở tham số a, b thì zero đi, tránh trường hợp cộng dồn grad\n",
    "        if a.grad is not None:\n",
    "            a.grad.zero_()\n",
    "        if b.grad is not None:\n",
    "            b.grad.zero_()\n",
    "        \n",
    "        # xây model, loss\n",
    "        y_hat = model(x, a, b)\n",
    "        loss = loss_fn(y_hat, y)\n",
    "        \n",
    "        # gọi backward để tính đạo hàm ngược của loss với tham số a, b\n",
    "        loss.backward()\n",
    "\n",
    "        # update a,b bằng thuật toán gradient descent, để torch.no_grad thì mình không cần backward ở bước này\n",
    "        with torch.no_grad():\n",
    "            a -= learning_rate * a.grad\n",
    "            b -= learning_rate * b.grad\n",
    "        \n",
    "        if epoch % 1 == 0:\n",
    "            losses.append(loss.item())\n",
    "            print('Epoch %d, Loss %f' % (epoch, float(loss)))\n",
    "    return a, b, losses"
   ]
  },
  {
   "cell_type": "code",
   "execution_count": 28,
   "id": "230e02ae",
   "metadata": {},
   "outputs": [
    {
     "name": "stdout",
     "output_type": "stream",
     "text": [
      "Epoch 1, Loss 928658.176303\n",
      "Epoch 2, Loss 264754.354670\n",
      "Epoch 3, Loss 75608.348718\n",
      "Epoch 4, Loss 21720.675909\n",
      "Epoch 5, Loss 6368.099589\n",
      "Epoch 6, Loss 1994.160233\n",
      "Epoch 7, Loss 748.023193\n",
      "Epoch 8, Loss 392.999771\n",
      "Epoch 9, Loss 291.853276\n",
      "Epoch 10, Loss 263.036789\n",
      "Epoch 11, Loss 254.826636\n",
      "Epoch 12, Loss 252.487520\n",
      "Epoch 13, Loss 251.821067\n",
      "Epoch 14, Loss 251.631127\n",
      "Epoch 15, Loss 251.576954\n",
      "Epoch 16, Loss 251.561457\n",
      "Epoch 17, Loss 251.556977\n",
      "Epoch 18, Loss 251.555637\n",
      "Epoch 19, Loss 251.555189\n",
      "Epoch 20, Loss 251.554995\n",
      "Epoch 21, Loss 251.554874\n",
      "Epoch 22, Loss 251.554774\n",
      "Epoch 23, Loss 251.554679\n",
      "Epoch 24, Loss 251.554586\n",
      "Epoch 25, Loss 251.554493\n",
      "Epoch 26, Loss 251.554401\n",
      "Epoch 27, Loss 251.554308\n",
      "Epoch 28, Loss 251.554216\n",
      "Epoch 29, Loss 251.554124\n",
      "Epoch 30, Loss 251.554031\n"
     ]
    }
   ],
   "source": [
    "a = torch.ones((),requires_grad=True)\n",
    "b = torch.zeros((),requires_grad=True)\n",
    "\n",
    "a, b, losses = training_loop(30, 0.00005, (a, b), x, y)"
   ]
  },
  {
   "cell_type": "code",
   "execution_count": 29,
   "id": "e3052d46",
   "metadata": {},
   "outputs": [
    {
     "data": {
      "text/plain": [
       "Text(0, 0.5, 'loss')"
      ]
     },
     "execution_count": 29,
     "metadata": {},
     "output_type": "execute_result"
    },
    {
     "data": {
      "image/png": "[encoded data removed]",
      "text/plain": [
       "<Figure size 432x288 with 1 Axes>"
      ]
     },
     "metadata": {
      "needs_background": "light"
     },
     "output_type": "display_data"
    }
   ],
   "source": [
    "plt.plot(losses)\n",
    "plt.xlabel('epoch')\n",
    "plt.ylabel('loss')"
   ]
  },
  {
   "cell_type": "code",
   "execution_count": 30,
   "id": "8980727e",
   "metadata": {},
   "outputs": [
    {
     "name": "stdout",
     "output_type": "stream",
     "text": [
      "tensor(755.6882)\n"
     ]
    }
   ],
   "source": [
    "# Dự đoán giá trị mới, x = 50\n",
    "x = torch.tensor(50)\n",
    "with torch.no_grad():\n",
    "    y_hat = model(x, a, b)\n",
    "    print(y_hat)"
   ]
  },
  {
   "cell_type": "code",
   "execution_count": 32,
   "id": "957976c9",
   "metadata": {},
   "outputs": [
    {
     "data": {
      "text/plain": [
       "[<matplotlib.lines.Line2D at 0x7f2bca0a2fd0>]"
      ]
     },
     "execution_count": 32,
     "metadata": {},
     "output_type": "execute_result"
    },
    {
     "data": {
      "image/png": "[encoded data removed]",
      "text/plain": [
       "<Figure size 432x288 with 1 Axes>"
      ]
     },
     "metadata": {
      "needs_background": "light"
     },
     "output_type": "display_data"
    }
   ],
   "source": [
    "x = torch.tensor(data['Diện tích'])\n",
    "y = torch.tensor(data['Giá'])\n",
    "with torch.no_grad():\n",
    "    y_hat = model(x, a, b)\n",
    "plt.scatter(x, y)\n",
    "plt.plot(x, y_hat, c='r')"
   ]
  },
  {
   "cell_type": "code",
   "execution_count": null,
   "id": "0a4a6625",
   "metadata": {},
   "outputs": [],
   "source": []
  }
 ],
 "metadata": {
  "kernelspec": {
   "display_name": "Python 3 (ipykernel)",
   "language": "python",
   "name": "python3"
  },
  "language_info": {
   "codemirror_mode": {
    "name": "ipython",
    "version": 3
   },
   "file_extension": ".py",
   "mimetype": "text/x-python",
   "name": "python",
   "nbconvert_exporter": "python",
   "pygments_lexer": "ipython3",
   "version": "3.9.2"
  }
 },
 "nbformat": 4,
 "nbformat_minor": 5
}
